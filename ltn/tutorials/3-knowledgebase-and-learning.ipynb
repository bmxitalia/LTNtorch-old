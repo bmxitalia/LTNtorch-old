{
 "cells": [
  {
   "cell_type": "markdown",
   "source": [
    "# Learning in LTN\n",
    "\n",
    "This tutorial explains how to learn some language symbols (predicates, functions, constants) using the satisfaction of a knowledgebase as an objective. It expects basic familiarity of the first two turoials on LTN (grounding of symbols and connectives)."
   ],
   "metadata": {
    "collapsed": false
   }
  },
  {
   "cell_type": "code",
   "execution_count": 3,
   "outputs": [],
   "source": [
    "import torch\n",
    "import numpy as np\n",
    "import ltn\n",
    "import matplotlib.pyplot as plt"
   ],
   "metadata": {
    "collapsed": false,
    "pycharm": {
     "name": "#%%\n"
    }
   }
  },
  {
   "cell_type": "markdown",
   "source": [
    "We use the following simple example to illustrate learning in LTN.\n",
    "\n",
    "The domain is the square $[0,4] \\times [0,4]$. We have one example of the class $A$ and one example of the class $B$. The rest of the individuals are not labelled, but there are two assumptions:\n",
    "- $A$ and $B$ are mutually exclusive,\n",
    "- any two close points should share the same label."
   ],
   "metadata": {
    "collapsed": false
   }
  },
  {
   "cell_type": "code",
   "execution_count": 4,
   "outputs": [
    {
     "data": {
      "text/plain": "<Figure size 432x288 with 1 Axes>",
      "image/png": "[encoded data removed]"
     },
     "metadata": {
      "needs_background": "light"
     },
     "output_type": "display_data"
    }
   ],
   "source": [
    "points = np.array(\n",
    "        [[0.4,0.3], [1.2,0.3], [2.2,1.3], [1.7,1.0], [0.5,0.5], [0.3, 1.5], [1.3, 1.1], [0.9, 1.7],\n",
    "        [3.4,3.3], [3.2,3.3], [3.2,2.3], [2.7,2.0], [3.5,3.5], [3.3, 2.5], [3.3, 1.1], [1.9, 3.7], [1.3, 3.5],\n",
    "        [3.3, 1.1],[3.9, 3.7]])\n",
    "point_a = [3.3, 2.5]\n",
    "point_b = [1.3, 1.1]\n",
    "fig, ax = plt.subplots()\n",
    "ax.set_xlim(0, 4)\n",
    "ax.set_ylim(0, 4)\n",
    "ax.scatter(points[:,0], points[:,1], color=\"black\", label=\"unknown\")\n",
    "ax.scatter(point_a[0], point_a[1], color=\"blue\", label=\"a\")\n",
    "ax.scatter(point_b[0], point_b[1], color=\"red\", label=\"b\")\n",
    "ax.set_title(\"Dataset of individuals\")\n",
    "plt.legend();"
   ],
   "metadata": {
    "collapsed": false,
    "pycharm": {
     "name": "#%%\n"
    }
   }
  },
  {
   "cell_type": "markdown",
   "source": [
    "We define the membership predicate $C(x,l)$, where $x$ is an individual and $l$ is a onehot label to denote the two classes. $C$ is approximated by a simple MLP. The last layer, that computes probabilities per class, uses a `softmax` activation, ensuring that the classes are mutually-exclusive.\n",
    "\n",
    "We define the knowledgebase $\\mathcal{K}$ composed of the following rules:\n",
    "\\begin{align}\n",
    "& C(a,l_a)\\\\\n",
    "& C(b,l_b)\\\\\n",
    "\\forall x_1,x_2,l\\ \\big(\\mathrm{Sim}(x_1,x_2) & \\rightarrow \\big(C(x_1,l)\\leftrightarrow C(x_2,l)\\big)\\big)\n",
    "\\end{align}\n",
    "where $a$ and $b$ the two individuals already classified; $x_1$,$x_2$ are variables ranging over all individuals; $l_a$, $l_b$ are the one-hot labels for $A$ and $B$; $l$ is a variable ranging over the labels. $\\mathrm{Sim}$ is a predicate measuring similarity between two points. $\\mathcal{G}(\\mathrm{Sim}):\\vec{u},\\vec{v}\\mapsto \\exp(-\\|\\vec{u}-\\vec{v} \\|^2)$.\n",
    "\n",
    "The objective is to learn the predicate $C$ to maximize the satisfaction of $\\mathcal{K}$. If $\\theta$ denotes the set of trainable parameters, the task is :\n",
    "$\\theta^\\ast = \\mathrm{argmax} {\\theta\\in\\Theta}\\ \\mathrm{SatAgg}_{\\phi\\in\\mathcal{K}}\\mathcal{G}_{\\theta}(\\phi)$\n",
    "where $\\mathrm{SatAgg}$ is an operator that aggregates the truth values of the formulas in $\\mathcal{K}$ (if there are more than one formula).\n",
    "\n",
    "To evaluate the grounding of each formula, one has to define the grounding of the non-logical symbols and of the operators."
   ],
   "metadata": {
    "collapsed": false
   }
  },
  {
   "cell_type": "code",
   "execution_count": 5,
   "outputs": [],
   "source": [
    "# grounding of the predicate C\n",
    "class ModelC(torch.nn.Module):\n",
    "    def __init__(self):\n",
    "        super(ModelC, self).__init__()\n",
    "        self.elu = torch.nn.ELU()\n",
    "        self.softmax = torch.nn.Softmax(dim=1)\n",
    "        self.dense1 = torch.nn.Linear(2, 5)\n",
    "        self.dense2 = torch.nn.Linear(5, 5)\n",
    "        self.dense3 = torch.nn.Linear(5, 2)\n",
    "\n",
    "    def forward(self, inputs):\n",
    "        \"\"\"inputs[0]: point, inputs[1]: onehot label\"\"\"\n",
    "        x, label = inputs[0], inputs[1]\n",
    "        x = self.elu(self.dense1(x))\n",
    "        x = self.elu(self.dense2(x))\n",
    "        prob = self.softmax(self.dense3(x))\n",
    "        return torch.sum(prob * label, dim=1)\n",
    "\n",
    "C = ltn.Predicate(ModelC())"
   ],
   "metadata": {
    "collapsed": false,
    "pycharm": {
     "name": "#%%\n"
    }
   }
  },
  {
   "cell_type": "code",
   "execution_count": 6,
   "outputs": [],
   "source": [
    "x1 = ltn.variable(\"x1\", points)\n",
    "x2 = ltn.variable(\"x2\", points)\n",
    "a = ltn.constant([3.3, 2.5])\n",
    "b = ltn.constant([1.3, 1.1])\n",
    "l_a = ltn.constant([1, 0])\n",
    "l_b = ltn.constant([0, 1])\n",
    "l = ltn.variable(\"l\", [[1, 0], [0, 1]])\n",
    "\n",
    "Sim = ltn.Predicate(lambda_func=\n",
    "    lambda args: torch.exp(-1. * torch.sqrt(torch.sum(torch.square(args[0] - args[1]), dim=1)))\n",
    ")"
   ],
   "metadata": {
    "collapsed": false,
    "pycharm": {
     "name": "#%%\n"
    }
   }
  },
  {
   "cell_type": "code",
   "execution_count": 8,
   "outputs": [
    {
     "data": {
      "text/plain": "<Figure size 432x288 with 1 Axes>",
      "image/png": "[encoded data removed]"
     },
     "metadata": {
      "needs_background": "light"
     },
     "output_type": "display_data"
    }
   ],
   "source": [
    "similarities_to_a = Sim([x1, a])\n",
    "fig, ax = plt.subplots()\n",
    "ax.set_xlim(0, 4)\n",
    "ax.set_ylim(0, 4)\n",
    "ax.scatter(points[:,0], points[:,1], color=\"black\")\n",
    "ax.scatter(a[0], a[1], color=\"blue\")\n",
    "ax.set_title(\"Illustrating the similarities of each point to a\")\n",
    "for i, sim_to_a in enumerate(similarities_to_a):\n",
    "    plt.plot([points[i,0], a[0]], [points[i,1],a[1]], alpha=float(sim_to_a.numpy()), color=\"blue\")"
   ],
   "metadata": {
    "collapsed": false,
    "pycharm": {
     "name": "#%%\n"
    }
   }
  },
  {
   "cell_type": "markdown",
   "source": [
    "Notice the operator for equivalence $p \\leftrightarrow q$ in LTN, it is simply implemented as $(p \\rightarrow q)\\land(q \\rightarrow p)$ using one operator for conjunction and one operator for implication."
   ],
   "metadata": {
    "collapsed": false
   }
  },
  {
   "cell_type": "code",
   "execution_count": 9,
   "outputs": [],
   "source": [
    "Not = ltn.WrapperConnective(ltn.fuzzy_ops.NotStandard())\n",
    "And = ltn.WrapperConnective(ltn.fuzzy_ops.AndProd())\n",
    "Or = ltn.WrapperConnective(ltn.fuzzy_ops.OrProbSum())\n",
    "Implies = ltn.WrapperConnective(ltn.fuzzy_ops.ImpliesGoguenStrong())\n",
    "Equiv = ltn.WrapperConnective(ltn.fuzzy_ops.Equiv(ltn.fuzzy_ops.AndProd(), ltn.fuzzy_ops.ImpliesGoguenStrong()))\n",
    "Forall = ltn.WrapperQuantifier(ltn.fuzzy_ops.AggregPMeanError(p=2), quantification_type=\"forall\")\n",
    "Exists = ltn.WrapperQuantifier(ltn.fuzzy_ops.AggregPMean(p=6), quantification_type=\"exists\")"
   ],
   "metadata": {
    "collapsed": false,
    "pycharm": {
     "name": "#%%\n"
    }
   }
  },
  {
   "cell_type": "markdown",
   "source": [
    "If there are several closed formulas in $\\mathcal{K}$, their truth values need to be aggregated.\n",
    "We recommend to use the generalized mean inspired operator `pMeanError`, already used to implement $\\forall$.\n",
    "The hyperparameter again allows flexibility in how strict the formula aggregation is ($p = 1$ corresponds to `mean`; $p \\to +\\inf$ corresponds to `min`).\n",
    "\n",
    "The knowledgebase can be written inside of a function for simplicity, as shown in the following code fragment."
   ],
   "metadata": {
    "collapsed": false
   }
  },
  {
   "cell_type": "code",
   "execution_count": 10,
   "outputs": [],
   "source": [
    "formula_aggregator = ltn.fuzzy_ops.AggregPMeanError(p=2)\n",
    "\n",
    "def axioms():\n",
    "    axioms = [\n",
    "        C([a, l_a]),\n",
    "        C([b, l_b]),\n",
    "        Forall(\n",
    "            [x1, x2, l],\n",
    "            Implies(\n",
    "                    Sim([x1, x2]),\n",
    "                    Equiv(C([x1,l]), C([x2,l]))\n",
    "                   )\n",
    "        )\n",
    "    ]\n",
    "    kb_sat = formula_aggregator(torch.stack(axioms), dim=0)\n",
    "    return kb_sat"
   ],
   "metadata": {
    "collapsed": false,
    "pycharm": {
     "name": "#%%\n"
    }
   }
  },
  {
   "cell_type": "markdown",
   "source": [
    "For training the LTN model it is possible to write a custom training loop in PyTorch."
   ],
   "metadata": {
    "collapsed": false
   }
  },
  {
   "cell_type": "code",
   "execution_count": 11,
   "outputs": [
    {
     "name": "stdout",
     "output_type": "stream",
     "text": [
      "Epoch 0: Sat Level 0.563 \n",
      "Epoch 200: Sat Level 0.765 \n",
      "Epoch 400: Sat Level 0.947 \n",
      "Epoch 600: Sat Level 0.953 \n",
      "Epoch 800: Sat Level 0.954 \n",
      "Epoch 1000: Sat Level 0.955 \n",
      "Epoch 1200: Sat Level 0.955 \n",
      "Epoch 1400: Sat Level 0.955 \n",
      "Epoch 1600: Sat Level 0.955 \n",
      "Epoch 1800: Sat Level 0.955 \n",
      "Training finished at Epoch 1999 with Sat Level 0.955\n"
     ]
    }
   ],
   "source": [
    "# we need to learn the parameters of the predicate C\n",
    "optimizer = torch.optim.Adam(C.parameters(), lr=0.001)\n",
    "\n",
    "for epoch in range(2000):\n",
    "    optimizer.zero_grad()\n",
    "    sat_agg = axioms()\n",
    "    loss = 1. - sat_agg\n",
    "    loss.backward()\n",
    "    optimizer.step()\n",
    "    if epoch%200 == 0:\n",
    "        print(\"Epoch %d: Sat Level %.3f \"%(epoch, sat_agg))\n",
    "print(\"Training finished at Epoch %d with Sat Level %.3f\" %(epoch, sat_agg))"
   ],
   "metadata": {
    "collapsed": false,
    "pycharm": {
     "name": "#%%\n"
    }
   }
  },
  {
   "cell_type": "markdown",
   "source": [
    "After a few epochs, the system has learned to identify samples close to the point $a$ (resp. $b$) as belonging to class $A$ (resp. $B$) based on the rules of the knowledgebase."
   ],
   "metadata": {
    "collapsed": false
   }
  },
  {
   "cell_type": "code",
   "execution_count": 14,
   "outputs": [
    {
     "data": {
      "text/plain": "<Figure size 720x216 with 4 Axes>",
      "image/png": "[encoded data removed]"
     },
     "metadata": {
      "needs_background": "light"
     },
     "output_type": "display_data"
    }
   ],
   "source": [
    "fig = plt.figure(figsize=(10, 3))\n",
    "fig.add_subplot(1, 2, 1)\n",
    "plt.scatter(x1[:, 0], x1[:, 1], c=C([x1, l_a]).detach().numpy(), vmin=0, vmax=1)\n",
    "plt.title(\"C(x,l_a)\")\n",
    "plt.colorbar()\n",
    "fig.add_subplot(1, 2, 2)\n",
    "plt.scatter(x1[:, 0], x1[:, 1], c=C([x1, l_b]).detach().numpy(), vmin=0, vmax=1)\n",
    "plt.title(\"C(x,l_b)\")\n",
    "plt.colorbar()\n",
    "plt.show();"
   ],
   "metadata": {
    "collapsed": false,
    "pycharm": {
     "name": "#%%\n"
    }
   }
  },
  {
   "cell_type": "markdown",
   "source": [
    "## Special Cases\n",
    "\n",
    "### Variables grounded by batch\n",
    "\n",
    "When working with batches of data, we need to ground the variables with different values at each step:\n",
    "1. We pass the values in arguments to the knowledgebase function;\n",
    "2. We create the ltn variables within the function.\n",
    "\n",
    "```python\n",
    "def axioms(data_x, data_y):\n",
    "    x = ltn.variable(\"x\", data_x)\n",
    "    y = ltn.variable(\"y\", data_y)\n",
    "    return Forall([x, y], P([x, y]))\n",
    "\n",
    "...\n",
    "for epoch in range(epochs):\n",
    "    for batch_x, batch_y in dataset:\n",
    "        optimizer.zero_grad()\n",
    "        loss_value = 1. - axioms(batch_x, batch_y)\n",
    "        loss_value.backward()\n",
    "        optimizer.step()\n",
    "```"
   ],
   "metadata": {
    "collapsed": false
   }
  },
  {
   "cell_type": "markdown",
   "source": [
    "### Variables denoting a sequence of trainable constants\n",
    "\n",
    "When a variable denotes a sequence of trainable constants (embeddings), we need to create the variable within the training step function.\n",
    "\n",
    "```python\n",
    "c1 = ltn.constant([2.1, 3], trainable=True)\n",
    "c2 = ltn.constant([4.5, 0.8], trainable=True)\n",
    "\n",
    "...\n",
    "def axioms():\n",
    "    x = ltn.variable(\"x\", torch.stack([c1, c2]))\n",
    "    return Forall(x, P(x))\n",
    "...\n",
    "for epoch in range(epochs):\n",
    "    optimizer.zero_grad()\n",
    "    loss_value = 1. - axioms()\n",
    "    loss_value.backward()\n",
    "    optimizer.step()\n",
    "```"
   ],
   "metadata": {
    "collapsed": false
   }
  }
 ],
 "metadata": {
  "kernelspec": {
   "display_name": "Python 3",
   "language": "python",
   "name": "python3"
  },
  "language_info": {
   "codemirror_mode": {
    "name": "ipython",
    "version": 2
   },
   "file_extension": ".py",
   "mimetype": "text/x-python",
   "name": "python",
   "nbconvert_exporter": "python",
   "pygments_lexer": "ipython2",
   "version": "2.7.6"
  }
 },
 "nbformat": 4,
 "nbformat_minor": 0
}